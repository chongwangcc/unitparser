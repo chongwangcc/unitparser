{
 "cells": [
  {
   "cell_type": "code",
   "execution_count": 1,
   "metadata": {
    "collapsed": true
   },
   "outputs": [
    {
     "name": "stdout",
     "output_type": "stream",
     "text": [
      "/home/cc/code/weightunit\n"
     ]
    }
   ],
   "source": [
    "\n",
    "import time\n",
    "import traceback\n",
    "import datetime\n",
    "import requests\n",
    "import urllib\n",
    "import json\n",
    "import os\n",
    "import glob\n",
    "import pathlib\n",
    "import pandas as pd\n",
    "import numpy as np\n",
    "# import openpyxl\n",
    "# os.chdir(\"/tf/cc/mojing\")\n",
    "print(os.getcwd())\n",
    "pd.options.display.max_rows = 999"
   ]
  },
  {
   "cell_type": "markdown",
   "source": [
    "# 低温酸奶测试用例"
   ],
   "metadata": {
    "collapsed": false,
    "pycharm": {
     "name": "#%% md\n"
    }
   }
  },
  {
   "cell_type": "code",
   "execution_count": 8,
   "outputs": [
    {
     "name": "stdout",
     "output_type": "stream",
     "text": [
      "input_str before modifier= 纯牛奶1L*12/24盒2件包邮\n",
      "input_str after modifier= 纯牛奶1l*12/24盒包邮\n",
      "unit_list= [(number=1, unit=l,level=1,total_flag=0,start_index=3,end_index=5), (number=12, unit=,level=0,total_flag=0,start_index=6,end_index=8)] \n",
      " op_list= [(op=*,start=5,end=6)]\n",
      "MUltiUnit.parser_from_str= [1l*12]\n",
      "final the one multi unit: 1l*12\n"
     ]
    }
   ],
   "source": [
    "file_path = \"./测试用例.xlsx\"\n",
    "df = pd.read_excel(file_path, engine=\"openpyxl\")\n",
    "import weightunit as unitparser\n",
    "from weightunit import parse_str, UnitLevel, default_mu_merge, SingleUnit, MultiUnit\n",
    "\n",
    "def calc_weight(rows):\n",
    "    title = rows[\"title\"]\n",
    "\n",
    "    try:\n",
    "        ul = UnitLevel.gen_default()\n",
    "        # ul.fix_unit_level()\n",
    "        mu1 = parse_str(title, unit_level=ul)\n",
    "        return mu1.calc_weight()\n",
    "    except Exception as e:\n",
    "        traceback.print_exc()\n",
    "        return '空'\n",
    "\n",
    "unitparser.DEBUG=True\n",
    "if unitparser.DEBUG:\n",
    "    i_row = 449\n",
    "    df.iloc[i_row:i_row+1].apply(lambda row: calc_weight(row), axis=1)"
   ],
   "metadata": {
    "collapsed": false,
    "pycharm": {
     "name": "#%%\n"
    }
   }
  },
  {
   "cell_type": "code",
   "execution_count": 7,
   "outputs": [
    {
     "name": "stdout",
     "output_type": "stream",
     "text": [
      "0.0009881422924901185\n"
     ]
    },
    {
     "data": {
      "text/plain": "                title  total-weight  fill_weight\n449  纯牛奶1L*12/24盒2件包邮         24000      12000.0",
      "text/html": "<div>\n<style scoped>\n    .dataframe tbody tr th:only-of-type {\n        vertical-align: middle;\n    }\n\n    .dataframe tbody tr th {\n        vertical-align: top;\n    }\n\n    .dataframe thead th {\n        text-align: right;\n    }\n</style>\n<table border=\"1\" class=\"dataframe\">\n  <thead>\n    <tr style=\"text-align: right;\">\n      <th></th>\n      <th>title</th>\n      <th>total-weight</th>\n      <th>fill_weight</th>\n    </tr>\n  </thead>\n  <tbody>\n    <tr>\n      <th>449</th>\n      <td>纯牛奶1L*12/24盒2件包邮</td>\n      <td>24000</td>\n      <td>12000.0</td>\n    </tr>\n  </tbody>\n</table>\n</div>"
     },
     "metadata": {},
     "output_type": "display_data"
    }
   ],
   "source": [
    "unitparser.DEBUG = False\n",
    "df[\"total-weight\"].fillna('空', inplace=True)\n",
    "df[\"fill_weight\"] = df.apply(lambda row: calc_weight(row), axis=1)\n",
    "df_miss = df[df[\"fill_weight\"]!= df[\"total-weight\"]]\n",
    "print(len(df_miss)/len(df))\n",
    "display(df_miss.head(99))"
   ],
   "metadata": {
    "collapsed": false,
    "pycharm": {
     "name": "#%%\n"
    }
   }
  },
  {
   "cell_type": "code",
   "execution_count": null,
   "outputs": [],
   "source": [],
   "metadata": {
    "collapsed": false,
    "pycharm": {
     "name": "#%%\n"
    }
   }
  }
 ],
 "metadata": {
  "kernelspec": {
   "name": "python3",
   "language": "python",
   "display_name": "Python 3"
  },
  "language_info": {
   "codemirror_mode": {
    "name": "ipython",
    "version": 2
   },
   "file_extension": ".py",
   "mimetype": "text/x-python",
   "name": "python",
   "nbconvert_exporter": "python",
   "pygments_lexer": "ipython2",
   "version": "2.7.6"
  }
 },
 "nbformat": 4,
 "nbformat_minor": 0
}