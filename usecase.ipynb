{
 "cells": [
  {
   "cell_type": "code",
   "execution_count": 1,
   "metadata": {
    "collapsed": true
   },
   "outputs": [
    {
     "name": "stdout",
     "output_type": "stream",
     "text": [
      "/home/cc/code/weightunit\n"
     ]
    }
   ],
   "source": [
    "\n",
    "import time\n",
    "import traceback\n",
    "import datetime\n",
    "import requests\n",
    "import urllib\n",
    "import json\n",
    "import os\n",
    "import glob\n",
    "import pathlib\n",
    "import pandas as pd\n",
    "import numpy as np\n",
    "# import openpyxl\n",
    "# os.chdir(\"/tf/cc/mojing\")\n",
    "print(os.getcwd())\n",
    "pd.options.display.max_rows = 999"
   ]
  },
  {
   "cell_type": "markdown",
   "source": [
    "# 检查测试用例中的准确率"
   ],
   "metadata": {
    "collapsed": false,
    "pycharm": {
     "name": "#%% md\n"
    }
   }
  },
  {
   "cell_type": "code",
   "execution_count": 8,
   "outputs": [
    {
     "name": "stdout",
     "output_type": "stream",
     "text": [
      "input_str before modifier= 纯牛奶1L*12/24盒2件包邮\n",
      "input_str after modifier= 纯牛奶1l*12/24盒包邮\n",
      "unit_list= [(number=1, unit=l,level=1,total_flag=0,start_index=3,end_index=5), (number=12, unit=,level=0,total_flag=0,start_index=6,end_index=8)] \n",
      " op_list= [(op=*,start=5,end=6)]\n",
      "MUltiUnit.parser_from_str= [1l*12]\n",
      "final the one multi unit: 1l*12\n"
     ]
    }
   ],
   "source": [
    "file_path = \"./测试用例.xlsx\"\n",
    "df = pd.read_excel(file_path, engine=\"openpyxl\")\n",
    "import weightunit as unitparser\n",
    "from weightunit import parse_str, UnitLevel, default_mu_merge, SingleUnit, MultiUnit\n",
    "\n",
    "def calc_weight(rows):\n",
    "    title = rows[\"title\"]\n",
    "\n",
    "    try:\n",
    "        ul = UnitLevel.gen_default()\n",
    "        # ul.fix_unit_level()\n",
    "        mu1 = parse_str(title, unit_level=ul)\n",
    "        return mu1.calc_weight()\n",
    "    except Exception as e:\n",
    "        traceback.print_exc()\n",
    "        return '空'"
   ],
   "metadata": {
    "collapsed": false,
    "pycharm": {
     "name": "#%%\n"
    }
   }
  },
  {
   "cell_type": "code",
   "execution_count": 12,
   "outputs": [
    {
     "name": "stdout",
     "output_type": "stream",
     "text": [
      "准确率= 99.90118577075098%\n"
     ]
    },
    {
     "data": {
      "text/plain": "                title  total-weight  fill_weight\n449  纯牛奶1L*12/24盒2件包邮         24000      12000.0",
      "text/html": "<div>\n<style scoped>\n    .dataframe tbody tr th:only-of-type {\n        vertical-align: middle;\n    }\n\n    .dataframe tbody tr th {\n        vertical-align: top;\n    }\n\n    .dataframe thead th {\n        text-align: right;\n    }\n</style>\n<table border=\"1\" class=\"dataframe\">\n  <thead>\n    <tr style=\"text-align: right;\">\n      <th></th>\n      <th>title</th>\n      <th>total-weight</th>\n      <th>fill_weight</th>\n    </tr>\n  </thead>\n  <tbody>\n    <tr>\n      <th>449</th>\n      <td>纯牛奶1L*12/24盒2件包邮</td>\n      <td>24000</td>\n      <td>12000.0</td>\n    </tr>\n  </tbody>\n</table>\n</div>"
     },
     "metadata": {},
     "output_type": "display_data"
    }
   ],
   "source": [
    "unitparser.DEBUG = False\n",
    "df[\"total-weight\"].fillna('空', inplace=True)\n",
    "df[\"fill_weight\"] = df.apply(lambda row: calc_weight(row), axis=1)\n",
    "df_miss = df[df[\"fill_weight\"]!= df[\"total-weight\"]]\n",
    "print('准确率= '+str((1-len(df_miss)/len(df))*100)+'%')\n",
    "display(df_miss.head(99))"
   ],
   "metadata": {
    "collapsed": false,
    "pycharm": {
     "name": "#%%\n"
    }
   }
  },
  {
   "cell_type": "markdown",
   "source": [
    "# 一些使用例子"
   ],
   "metadata": {
    "collapsed": false,
    "pycharm": {
     "name": "#%% md\n"
    }
   }
  },
  {
   "cell_type": "code",
   "execution_count": 38,
   "outputs": [
    {
     "name": "stdout",
     "output_type": "stream",
     "text": [
      "1l*12盒\n",
      "(11, 17)\n",
      "12000\n",
      "---------------------\n",
      "250g*1瓶+200g*5瓶\n",
      "(5, 20)\n",
      "1250\n",
      "---------------------\n",
      "1l*(12盒|24盒)\n",
      "(11, 21)\n",
      "24000.0\n",
      "---------------------\n",
      "未添加【吨】 None\n",
      "添加【吨】 (2吨)|(1吨)|(10t)|(5吨)|(3吨)\n",
      "---------------------\n",
      "500g*6盒\n",
      "500g*6盒*11\n",
      "---------------------\n",
      "<class 'list'>\n",
      "[3箱, 500g*6盒]\n",
      "<class 'weightunit.MultiUnit'>\n",
      "500g*6盒*3箱\n",
      "---------------------\n"
     ]
    }
   ],
   "source": [
    "from weightunit import parse_str, UnitLevel\n",
    "\n",
    "# 乘法情况, 将升转化为毫升\n",
    "mu = parse_str(\"德国进口德亚全脂纯牛奶1L*12盒整箱营养早餐奶学生儿童老人\")\n",
    "print(mu)\n",
    "print((mu.start_index, mu.end_index))\n",
    "print(mu.calc_weight())# 计算单位，并转换为ml\n",
    "print(\"---------------------\")\n",
    "\n",
    "# 有加法的情况\n",
    "mu = parse_str(\"简醇0蔗糖250g*1瓶+开啡尔草莓味200g*5瓶\")\n",
    "print(mu)\n",
    "print((mu.start_index, mu.end_index))\n",
    "print(mu.calc_weight())\n",
    "print(\"---------------------\")\n",
    "\n",
    "# 或的情况\n",
    "mu = parse_str(\"德国进口德亚全脂纯牛奶1L*12盒|24盒整箱营养早餐奶学生儿童老人\")\n",
    "print(mu)\n",
    "print((mu.start_index, mu.end_index))\n",
    "print(mu.calc_weight())# 计算单位，并转换为ml\n",
    "print(\"---------------------\")\n",
    "\n",
    "# 添加自定义的重量单位\n",
    "mu = parse_str(\"手拉葫芦吊机手动2吨倒链1吨10t小型5吨家用起重机3吨工业吊葫芦\")\n",
    "print(\"未添加【吨】\",mu)\n",
    "ul = UnitLevel.gen_default()\n",
    "ul.add_unit_word(\"吨\", level=1)\n",
    "ul.add_unit_word(\"t\", level=1)\n",
    "mu = parse_str(\"手拉葫芦吊机手动2吨倒链1吨10t小型5吨家用起重机3吨工业吊葫芦\", unit_level=ul)\n",
    "print(\"添加【吨】\",mu)\n",
    "print(\"---------------------\")\n",
    "\n",
    "\n",
    "# 设置str_modifier函数，可以在真正解析前字符串前，删除一些字符，让长串的计算公式连一起\n",
    "def str_modifier(input_str):\n",
    "    # 替代默认的str修改，不对input_str进行修改\n",
    "    return input_str\n",
    "mu = parse_str(\"爱尔培 奶酪500g*6盒11月29到期\", )\n",
    "print(mu)\n",
    "mu = parse_str(\"爱尔培 奶酪500g*6盒11月29到期\", str_modifier=str_modifier)\n",
    "print(mu)\n",
    "print(\"---------------------\")\n",
    "\n",
    "# 获得所有的段落，不强制合并到一个公式里\n",
    "mu_list = parse_str(\"3箱爱尔培 奶酪500g*6盒11月29到期\", only_one=False)\n",
    "print(type(mu_list))\n",
    "print(mu_list)\n",
    "mu_list = parse_str(\"3箱爱尔培 奶酪500g*6盒11月29到期\", only_one=True)\n",
    "print(type(mu_list))\n",
    "print(mu_list)\n",
    "print(\"---------------------\")"
   ],
   "metadata": {
    "collapsed": false,
    "pycharm": {
     "name": "#%%\n"
    }
   }
  },
  {
   "cell_type": "markdown",
   "source": [],
   "metadata": {
    "collapsed": false,
    "pycharm": {
     "name": "#%% md\n"
    }
   }
  }
 ],
 "metadata": {
  "kernelspec": {
   "name": "python3",
   "language": "python",
   "display_name": "Python 3"
  },
  "language_info": {
   "codemirror_mode": {
    "name": "ipython",
    "version": 2
   },
   "file_extension": ".py",
   "mimetype": "text/x-python",
   "name": "python",
   "nbconvert_exporter": "python",
   "pygments_lexer": "ipython2",
   "version": "2.7.6"
  }
 },
 "nbformat": 4,
 "nbformat_minor": 0
}