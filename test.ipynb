{
 "cells": [
  {
   "cell_type": "code",
   "execution_count": 5,
   "metadata": {
    "collapsed": true
   },
   "outputs": [
    {
     "name": "stdout",
     "output_type": "stream",
     "text": [
      "/home/cc/code/weightunit\n"
     ]
    }
   ],
   "source": [
    "\n",
    "import time\n",
    "import traceback\n",
    "import datetime\n",
    "import requests\n",
    "import urllib\n",
    "import json\n",
    "import os\n",
    "import glob\n",
    "import pathlib\n",
    "import pandas as pd\n",
    "import numpy as np\n",
    "# import openpyxl\n",
    "# os.chdir(\"/tf/cc/mojing\")\n",
    "print(os.getcwd())\n",
    "pd.options.display.max_rows = 999"
   ]
  },
  {
   "cell_type": "markdown",
   "source": [
    "# 低温酸奶测试用例"
   ],
   "metadata": {
    "collapsed": false,
    "pycharm": {
     "name": "#%% md\n"
    }
   }
  },
  {
   "cell_type": "code",
   "execution_count": 9,
   "outputs": [],
   "source": [
    "file_path = \"./data_labeled/测试用例_错误.xlsx\"\n",
    "df = pd.read_excel(file_path, engine=\"openpyxl\")\n",
    "import weightunit as unitparser\n",
    "from weightunit import parse_str, UnitLevel, default_mu_merge, SingleUnit, MultiUnit\n",
    "\n",
    "def calc_weight(rows):\n",
    "    title = rows[\"title\"]\n",
    "    skuname = rows[\"skuname\"]\n",
    "\n",
    "    try:\n",
    "        ul = UnitLevel.gen_default()\n",
    "        # ul.fix_unit_level()\n",
    "        mu1 = parse_str(title, unit_level=ul)\n",
    "        mu2 = parse_str(skuname, unit_level=ul)\n",
    "        if unitparser.DEBUG: print(\"mu_title=\", mu1, \"mu_skuname=\",mu2)\n",
    "        if mu1 is None and mu2 is None:\n",
    "            return '空'\n",
    "        elif mu2 is None:\n",
    "            if mu1.have_level(1):\n",
    "                return mu1.calc_weight()\n",
    "            else:\n",
    "                # todo 判断mu1的level是否正确\n",
    "                return '空'\n",
    "        elif mu1 is None:\n",
    "            if mu2.have_level(1):\n",
    "                return mu2.calc_weight()\n",
    "            else:\n",
    "                # TODO 判断mu2的level是否正确\n",
    "                return '空'\n",
    "                pass\n",
    "        else:\n",
    "            # title, skuname中都值\n",
    "            if mu2.have_level(1):\n",
    "                return mu2.calc_weight()\n",
    "            elif mu1.have_level(1):\n",
    "                # skuname有值，但没有1级单位\n",
    "                # 用skuname的值，替换title中的对应单位\n",
    "                # mu1  = default_mu_merge([mu1, mu2])\n",
    "                mu2 = mu2.simple_formula()\n",
    "                for su in mu2:\n",
    "                    if isinstance(su, MultiUnit) and len(su)==1 and su.get_first_single_unit().total_flag==1 \\\n",
    "                        or (isinstance(su, SingleUnit) and su.total_flag==1) :\n",
    "                        mu1.append(su, op='*', same_unit='verify')\n",
    "                        continue\n",
    "                    if len(mu2)==1 and \\\n",
    "                            mu1.sum_level(mu2.get_first_single_unit().level)==float(mu2.get_first_single_unit().number):\n",
    "                        continue\n",
    "                    if mu1 is not None and not mu1.replace_same_unit(su, True):\n",
    "                        # skuname中只偶遇一个没有单位的数字舍弃\n",
    "                        if len(mu2)==1 and mu2.org_units[0].unit=='':\n",
    "                            continue\n",
    "                        mu1.append(su, op=\"*\")\n",
    "\n",
    "                if unitparser.DEBUG: print(\"xxxxxxxxxx   \",mu1)\n",
    "                return mu1.calc_weight()\n",
    "            else:\n",
    "                # mu1, mu2都没有level1\n",
    "                return '空'\n",
    "    except Exception as e:\n",
    "        traceback.print_exc()\n",
    "        return '空'\n",
    "unitparser.DEBUG=True\n",
    "if unitparser.DEBUG:\n",
    "    i_row = 221\n",
    "    df.iloc[i_row:i_row+1].apply(lambda row: calc_weight(row), axis=1)\n"
   ],
   "metadata": {
    "collapsed": false,
    "pycharm": {
     "name": "#%%\n"
    }
   }
  },
  {
   "cell_type": "code",
   "execution_count": 7,
   "outputs": [
    {
     "name": "stdout",
     "output_type": "stream",
     "text": [
      "0.0625\n"
     ]
    },
    {
     "data": {
      "text/plain": "                                 title                            skuname  \\\n18  蒙牛特仑苏全脂纯牛奶250ml*12学生早餐奶整箱礼盒装 3箱起包邮                                  空   \n31                  3.3g乳蛋白纯牛奶250ML*10                                20支   \n34                    纯牛奶1L*12/24盒2件包邮                                NaN   \n61   伊利安慕希原味酸奶230g*10瓶整箱高端畅饮型送人好礼早餐纯牛奶  【10瓶装】高端芒果百香果230ml*10瓶整箱【领劵2提减3元】   \n\n        count  total-weight  fill_weight  \n18     250*12          3000       9000.0  \n31     250*20          5000       2500.0  \n34  1*1000*24          2400      12000.0  \n61     230*10          2300       4600.0  ",
      "text/html": "<div>\n<style scoped>\n    .dataframe tbody tr th:only-of-type {\n        vertical-align: middle;\n    }\n\n    .dataframe tbody tr th {\n        vertical-align: top;\n    }\n\n    .dataframe thead th {\n        text-align: right;\n    }\n</style>\n<table border=\"1\" class=\"dataframe\">\n  <thead>\n    <tr style=\"text-align: right;\">\n      <th></th>\n      <th>title</th>\n      <th>skuname</th>\n      <th>count</th>\n      <th>total-weight</th>\n      <th>fill_weight</th>\n    </tr>\n  </thead>\n  <tbody>\n    <tr>\n      <th>18</th>\n      <td>蒙牛特仑苏全脂纯牛奶250ml*12学生早餐奶整箱礼盒装 3箱起包邮</td>\n      <td>空</td>\n      <td>250*12</td>\n      <td>3000</td>\n      <td>9000.0</td>\n    </tr>\n    <tr>\n      <th>31</th>\n      <td>3.3g乳蛋白纯牛奶250ML*10</td>\n      <td>20支</td>\n      <td>250*20</td>\n      <td>5000</td>\n      <td>2500.0</td>\n    </tr>\n    <tr>\n      <th>34</th>\n      <td>纯牛奶1L*12/24盒2件包邮</td>\n      <td>NaN</td>\n      <td>1*1000*24</td>\n      <td>2400</td>\n      <td>12000.0</td>\n    </tr>\n    <tr>\n      <th>61</th>\n      <td>伊利安慕希原味酸奶230g*10瓶整箱高端畅饮型送人好礼早餐纯牛奶</td>\n      <td>【10瓶装】高端芒果百香果230ml*10瓶整箱【领劵2提减3元】</td>\n      <td>230*10</td>\n      <td>2300</td>\n      <td>4600.0</td>\n    </tr>\n  </tbody>\n</table>\n</div>"
     },
     "metadata": {},
     "output_type": "display_data"
    }
   ],
   "source": [
    "unitparser.DEBUG = False\n",
    "df[\"total-weight\"].fillna('空', inplace=True)\n",
    "df[\"fill_weight\"] = df.apply(lambda row: calc_weight(row), axis=1)\n",
    "df_miss = df[df[\"fill_weight\"]!= df[\"total-weight\"]]\n",
    "print(len(df_miss)/len(df))\n",
    "display(df_miss.head(99))"
   ],
   "metadata": {
    "collapsed": false,
    "pycharm": {
     "name": "#%%\n"
    }
   }
  },
  {
   "cell_type": "code",
   "execution_count": 8,
   "outputs": [
    {
     "name": "stdout",
     "output_type": "stream",
     "text": [
      "\n",
      "./data_labeled/纯牛奶测试用例.xlsx\t==\t100.0%\n",
      "./data_labeled/低温牛奶测试用例.xlsx\t==\t99.83333333333333%\n",
      "./data_labeled/奶酪测试用例.xlsx\t==\t96.66666666666667%\n",
      "./data_labeled/常温酸奶测试用例.xlsx\t==\t100.0%\n",
      "./data_labeled/低温酸奶测试用例.xlsx\t==\t99.0%\n",
      "./data_labeled/测试用例_错误.xlsx\t==\t93.75%\n",
      "./data_labeled/奶粉测试用例.xlsx\t==\t99.83333333333333%\n"
     ]
    }
   ],
   "source": [
    "import glob\n",
    "# 统计每个文件下的正确率\n",
    "\n",
    "file_list = glob.glob(\"./data_labeled/*.xlsx\")\n",
    "print()\n",
    "for f in file_list:\n",
    "    df = pd.read_excel(f, engine=\"openpyxl\")\n",
    "    df[\"total-weight\"].fillna('空', inplace=True)\n",
    "    df[\"fill_weight\"] = df.apply(lambda row: calc_weight(row), axis=1)\n",
    "    df_miss = df[df[\"fill_weight\"]!= df[\"total-weight\"]]\n",
    "\n",
    "    print( \"{}\\t==\\t{:}%\".format(f, (1-len(df_miss)/len(df))*100))"
   ],
   "metadata": {
    "collapsed": false,
    "pycharm": {
     "name": "#%%\n"
    }
   }
  },
  {
   "cell_type": "code",
   "execution_count": null,
   "outputs": [],
   "source": [],
   "metadata": {
    "collapsed": false,
    "pycharm": {
     "name": "#%%\n"
    }
   }
  }
 ],
 "metadata": {
  "kernelspec": {
   "name": "python3",
   "language": "python",
   "display_name": "Python 3"
  },
  "language_info": {
   "codemirror_mode": {
    "name": "ipython",
    "version": 2
   },
   "file_extension": ".py",
   "mimetype": "text/x-python",
   "name": "python",
   "nbconvert_exporter": "python",
   "pygments_lexer": "ipython2",
   "version": "2.7.6"
  }
 },
 "nbformat": 4,
 "nbformat_minor": 0
}